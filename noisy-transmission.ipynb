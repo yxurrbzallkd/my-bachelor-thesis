{
 "cells": [
  {
   "cell_type": "markdown",
   "id": "fdc6a605-3042-4def-b494-0ab9515bf8dc",
   "metadata": {},
   "source": [
    "# Noisy Transmission Simulation\n",
    "This notebook simulates transmission of a video over a noisy channel model that we propose."
   ]
  },
  {
   "cell_type": "code",
   "execution_count": 12,
   "id": "e7db3801-7cea-43d7-aa54-92f2ce10b6bb",
   "metadata": {},
   "outputs": [],
   "source": [
    "import numpy as np\n",
    "import cv2\n",
    "from random import random, randint"
   ]
  },
  {
   "cell_type": "code",
   "execution_count": 8,
   "id": "3fd16cb7-e153-4b23-8923-a1850463317a",
   "metadata": {},
   "outputs": [
    {
     "name": "stderr",
     "output_type": "stream",
     "text": [
      "ffmpeg version 4.2.3 Copyright (c) 2000-2020 the FFmpeg developers\n",
      "  built with gcc 9.3.1 (GCC) 20200523\n",
      "  configuration: --enable-gpl --enable-version3 --enable-sdl2 --enable-fontconfig --enable-gnutls --enable-iconv --enable-libass --enable-libdav1d --enable-libbluray --enable-libfreetype --enable-libmp3lame --enable-libopencore-amrnb --enable-libopencore-amrwb --enable-libopenjpeg --enable-libopus --enable-libshine --enable-libsnappy --enable-libsoxr --enable-libtheora --enable-libtwolame --enable-libvpx --enable-libwavpack --enable-libwebp --enable-libx264 --enable-libx265 --enable-libxml2 --enable-libzimg --enable-lzma --enable-zlib --enable-gmp --enable-libvidstab --enable-libvorbis --enable-libvo-amrwbenc --enable-libmysofa --enable-libspeex --enable-libxvid --enable-libaom --enable-libmfx --enable-amf --enable-ffnvcodec --enable-cuvid --enable-d3d11va --enable-nvenc --enable-nvdec --enable-dxva2 --enable-avisynth --enable-libopenmpt\n",
      "  libavutil      56. 31.100 / 56. 31.100\n",
      "  libavcodec     58. 54.100 / 58. 54.100\n",
      "  libavformat    58. 29.100 / 58. 29.100\n",
      "  libavdevice    58.  8.100 / 58.  8.100\n",
      "  libavfilter     7. 57.100 /  7. 57.100\n",
      "  libswscale      5.  5.100 /  5.  5.100\n",
      "  libswresample   3.  5.100 /  3.  5.100\n",
      "  libpostproc    55.  5.100 / 55.  5.100\n",
      "Input #0, mov,mp4,m4a,3gp,3g2,mj2, from 'test-video.MP4':\n",
      "  Metadata:\n",
      "    major_brand     : mp42\n",
      "    minor_version   : 1\n",
      "    compatible_brands: isommp41mp42\n",
      "    creation_time   : 2024-02-07T11:57:17.000000Z\n",
      "  Duration: 00:00:41.80, start: 0.000000, bitrate: 2898 kb/s\n",
      "    Stream #0:0(und): Video: h264 (High) (avc1 / 0x31637661), yuv420p(tv, bt709), 1280x720, 2830 kb/s, SAR 1:1 DAR 16:9, 29.38 fps, 30 tbr, 600 tbn, 1200 tbc (default)\n",
      "    Metadata:\n",
      "      creation_time   : 2024-02-07T11:57:17.000000Z\n",
      "      handler_name    : Core Media Video\n",
      "    Stream #0:1(und): Audio: aac (LC) (mp4a / 0x6134706D), 44100 Hz, stereo, fltp, 62 kb/s (default)\n",
      "    Metadata:\n",
      "      creation_time   : 2024-02-07T11:57:17.000000Z\n",
      "      handler_name    : Core Media Audio\n",
      "Stream mapping:\n",
      "  Stream #0:0 -> #0:0 (h264 (native) -> h264 (libx264))\n",
      "Press [q] to stop, [?] for help\n",
      "[libx264 @ 000002e0da3e0980] using SAR=1/1\n",
      "[libx264 @ 000002e0da3e0980] using cpu capabilities: MMX2 SSE2Fast SSSE3 SSE4.2 AVX FMA3 BMI2 AVX2\n",
      "[libx264 @ 000002e0da3e0980] profile High, level 3.1, 4:2:0, 8-bit\n",
      "Output #0, h264, to 'test-video.264':\n",
      "  Metadata:\n",
      "    major_brand     : mp42\n",
      "    minor_version   : 1\n",
      "    compatible_brands: isommp41mp42\n",
      "    encoder         : Lavf58.29.100\n",
      "    Stream #0:0(und): Video: h264 (libx264), yuv420p, 1280x720 [SAR 1:1 DAR 16:9], q=-1--1, 30 fps, 30 tbn, 30 tbc (default)\n",
      "    Metadata:\n",
      "      creation_time   : 2024-02-07T11:57:17.000000Z\n",
      "      handler_name    : Core Media Video\n",
      "      encoder         : Lavc58.54.100 libx264\n",
      "    Side data:\n",
      "      cpb: bitrate max/min/avg: 0/0/0 buffer size: 0 vbv_delay: -1\n",
      "frame=   59 fps=0.0 q=29.0 size=      78kB time=00:00:00.03 bitrate=19247.0kbits/s speed=0.0629x    \n",
      "frame=   85 fps= 80 q=29.0 size=     256kB time=00:00:00.90 bitrate=2330.2kbits/s speed=0.849x    \n",
      "frame=  103 fps= 64 q=29.0 size=     512kB time=00:00:01.50 bitrate=2796.2kbits/s speed=0.936x    \n",
      "frame=  128 fps= 57 q=29.0 size=    1024kB time=00:00:02.33 bitrate=3595.1kbits/s speed=1.04x    \n",
      "frame=  149 fps= 54 q=29.0 size=    1280kB time=00:00:03.03 bitrate=3456.8kbits/s speed= 1.1x    \n",
      "frame=  179 fps= 52 q=29.0 size=    1536kB time=00:00:04.03 bitrate=3119.7kbits/s speed=1.16x    \n",
      "frame=  194 fps= 49 q=29.0 size=    2048kB time=00:00:04.53 bitrate=3700.9kbits/s speed=1.14x    \n",
      "frame=  209 fps= 46 q=29.0 size=    2560kB time=00:00:05.03 bitrate=4166.5kbits/s speed=1.11x    \n",
      "frame=  228 fps= 45 q=29.0 size=    3072kB time=00:00:05.66 bitrate=4441.0kbits/s speed=1.12x    \n",
      "frame=  248 fps= 44 q=29.0 size=    3584kB time=00:00:06.33 bitrate=4635.8kbits/s speed=1.14x    \n",
      "frame=  265 fps= 43 q=29.0 size=    3840kB time=00:00:06.90 bitrate=4559.0kbits/s speed=1.13x    \n",
      "frame=  286 fps= 43 q=29.0 size=    4352kB time=00:00:07.60 bitrate=4691.0kbits/s speed=1.13x    \n",
      "frame=  307 fps= 42 q=29.0 size=    4608kB time=00:00:08.30 bitrate=4548.0kbits/s speed=1.15x    \n",
      "frame=  323 fps= 42 q=29.0 size=    4864kB time=00:00:08.83 bitrate=4510.9kbits/s speed=1.14x    \n",
      "frame=  340 fps= 41 q=29.0 size=    5376kB time=00:00:09.40 bitrate=4685.1kbits/s speed=1.13x    \n",
      "frame=  354 fps= 40 q=29.0 size=    5632kB time=00:00:09.86 bitrate=4676.1kbits/s speed=1.12x    \n",
      "frame=  378 fps= 40 q=29.0 size=    6144kB time=00:00:10.66 bitrate=4718.6kbits/s speed=1.14x    \n",
      "frame=  396 fps= 40 q=29.0 size=    6400kB time=00:00:11.26 bitrate=4653.4kbits/s speed=1.14x    \n",
      "frame=  416 fps= 40 q=29.0 size=    6912kB time=00:00:11.93 bitrate=4745.0kbits/s speed=1.14x    \n",
      "frame=  441 fps= 40 q=29.0 size=    7168kB time=00:00:12.76 bitrate=4599.5kbits/s speed=1.15x    \n",
      "frame=  458 fps= 39 q=29.0 size=    7680kB time=00:00:13.33 bitrate=4718.6kbits/s speed=1.14x    \n",
      "frame=  473 fps= 39 q=29.0 size=    7936kB time=00:00:13.83 bitrate=4699.6kbits/s speed=1.14x    \n",
      "frame=  485 fps= 38 q=29.0 size=    8192kB time=00:00:14.23 bitrate=4714.9kbits/s speed=1.11x    \n",
      "frame=  501 fps= 38 q=29.0 size=    8448kB time=00:00:14.76 bitrate=4686.6kbits/s speed=1.11x    \n",
      "frame=  520 fps= 38 q=29.0 size=    8704kB time=00:00:15.40 bitrate=4630.1kbits/s speed=1.12x    \n",
      "frame=  536 fps= 38 q=29.0 size=    8960kB time=00:00:15.93 bitrate=4606.7kbits/s speed=1.12x    \n",
      "frame=  561 fps= 38 q=29.0 size=    9216kB time=00:00:16.76 bitrate=4502.8kbits/s speed=1.13x    \n",
      "frame=  585 fps= 38 q=29.0 size=    9472kB time=00:00:17.56 bitrate=4417.2kbits/s speed=1.14x    \n",
      "frame=  609 fps= 38 q=29.0 size=    9728kB time=00:00:18.36 bitrate=4338.9kbits/s speed=1.16x    \n",
      "frame=  640 fps= 39 q=29.0 size=    9984kB time=00:00:19.40 bitrate=4215.9kbits/s speed=1.19x    \n",
      "frame=  671 fps= 40 q=29.0 size=   10240kB time=00:00:20.43 bitrate=4105.4kbits/s speed=1.21x    \n",
      "frame=  689 fps= 39 q=29.0 size=   10496kB time=00:00:21.03 bitrate=4088.0kbits/s speed=1.21x    \n",
      "frame=  710 fps= 40 q=29.0 size=   10752kB time=00:00:21.73 bitrate=4052.8kbits/s speed=1.21x    \n",
      "frame=  731 fps= 40 q=29.0 size=   11008kB time=00:00:22.43 bitrate=4019.8kbits/s speed=1.21x    \n",
      "frame=  750 fps= 39 q=29.0 size=   11264kB time=00:00:23.06 bitrate=4000.3kbits/s speed=1.21x    \n",
      "frame=  770 fps= 39 q=29.0 size=   11520kB time=00:00:23.73 bitrate=3976.3kbits/s speed= 1.2x    \n",
      "frame=  783 fps= 39 q=29.0 size=   11776kB time=00:00:24.16 bitrate=3991.8kbits/s speed=1.19x    \n",
      "frame=  797 fps= 38 q=29.0 size=   11776kB time=00:00:24.63 bitrate=3916.2kbits/s speed=1.18x    \n",
      "frame=  820 fps= 38 q=29.0 size=   12032kB time=00:00:25.40 bitrate=3880.6kbits/s speed=1.19x    \n",
      "frame=  836 fps= 38 q=29.0 size=   12288kB time=00:00:25.93 bitrate=3881.6kbits/s speed=1.19x    \n",
      "frame=  856 fps= 38 q=29.0 size=   12544kB time=00:00:26.60 bitrate=3863.2kbits/s speed=1.19x    \n",
      "frame=  876 fps= 38 q=29.0 size=   12800kB time=00:00:27.26 bitrate=3845.6kbits/s speed=1.19x    \n",
      "frame=  896 fps= 38 q=29.0 size=   13312kB time=00:00:27.93 bitrate=3904.0kbits/s speed=1.19x    \n",
      "frame=  914 fps= 38 q=29.0 size=   13568kB time=00:00:28.53 bitrate=3895.4kbits/s speed=1.18x    \n",
      "frame=  928 fps= 38 q=29.0 size=   13824kB time=00:00:29.00 bitrate=3905.0kbits/s speed=1.18x    \n",
      "frame=  943 fps= 38 q=29.0 size=   14336kB time=00:00:29.50 bitrate=3981.0kbits/s speed=1.18x    \n",
      "frame=  960 fps= 38 q=29.0 size=   14592kB time=00:00:30.06 bitrate=3975.8kbits/s speed=1.17x    \n",
      "frame=  974 fps= 37 q=29.0 size=   15104kB time=00:00:30.53 bitrate=4052.4kbits/s speed=1.17x    \n",
      "frame=  995 fps= 37 q=29.0 size=   15360kB time=00:00:31.23 bitrate=4028.7kbits/s speed=1.17x    \n",
      "frame= 1009 fps= 37 q=29.0 size=   15616kB time=00:00:31.70 bitrate=4035.5kbits/s speed=1.17x    \n",
      "frame= 1024 fps= 37 q=29.0 size=   15872kB time=00:00:32.20 bitrate=4038.0kbits/s speed=1.16x    \n",
      "frame= 1042 fps= 37 q=29.0 size=   16384kB time=00:00:32.80 bitrate=4092.0kbits/s speed=1.16x    \n",
      "frame= 1060 fps= 37 q=29.0 size=   16640kB time=00:00:33.40 bitrate=4081.3kbits/s speed=1.16x    \n",
      "frame= 1080 fps= 37 q=29.0 size=   17152kB time=00:00:34.06 bitrate=4124.5kbits/s speed=1.16x    \n",
      "frame= 1098 fps= 37 q=29.0 size=   17408kB time=00:00:34.66 bitrate=4113.6kbits/s speed=1.16x    \n",
      "frame= 1113 fps= 37 q=29.0 size=   17664kB time=00:00:35.16 bitrate=4114.8kbits/s speed=1.16x    \n",
      "frame= 1128 fps= 36 q=29.0 size=   18176kB time=00:00:35.66 bitrate=4174.7kbits/s dup=1 drop=0 speed=1.15x    \n",
      "frame= 1140 fps= 36 q=29.0 size=   18688kB time=00:00:36.06 bitrate=4244.7kbits/s dup=4 drop=0 speed=1.14x    \n",
      "frame= 1153 fps= 36 q=29.0 size=   19200kB time=00:00:36.50 bitrate=4309.2kbits/s dup=6 drop=0 speed=1.14x    \n",
      "frame= 1168 fps= 36 q=26.0 size=   19712kB time=00:00:37.00 bitrate=4364.3kbits/s dup=9 drop=0 speed=1.14x    \n",
      "frame= 1231 fps= 37 q=29.0 size=   20224kB time=00:00:39.10 bitrate=4237.2kbits/s dup=22 drop=0 speed=1.18x    \n",
      "frame= 1254 fps= 38 q=-1.0 Lsize=   20493kB time=00:00:41.73 bitrate=4022.7kbits/s dup=26 drop=0 speed=1.25x    \n",
      "video:20493kB audio:0kB subtitle:0kB other streams:0kB global headers:0kB muxing overhead: 0.000000%\n",
      "[libx264 @ 000002e0da3e0980] frame I:8     Avg QP:23.68  size: 45646\n",
      "[libx264 @ 000002e0da3e0980] frame P:560   Avg QP:25.75  size: 22357\n",
      "[libx264 @ 000002e0da3e0980] frame B:686   Avg QP:25.85  size: 11808\n",
      "[libx264 @ 000002e0da3e0980] consecutive B-frames: 13.5% 36.4% 13.2% 37.0%\n",
      "[libx264 @ 000002e0da3e0980] mb I  I16..4:  9.1% 70.7% 20.2%\n",
      "[libx264 @ 000002e0da3e0980] mb P  I16..4:  8.5% 41.7%  7.3%  P16..4: 21.1%  6.6%  2.1%  0.0%  0.0%    skip:12.8%\n",
      "[libx264 @ 000002e0da3e0980] mb B  I16..4:  4.8% 14.7%  2.0%  B16..8: 27.5%  5.7%  0.8%  direct: 9.4%  skip:35.1%  L0:46.8% L1:49.1% BI: 4.1%\n",
      "[libx264 @ 000002e0da3e0980] 8x8 transform intra:71.3% inter:86.0%\n",
      "[libx264 @ 000002e0da3e0980] coded y,uvDC,uvAC intra: 54.7% 41.9% 4.6% inter: 20.5% 33.0% 1.1%\n",
      "[libx264 @ 000002e0da3e0980] i16 v,h,dc,p: 27% 30% 15% 29%\n",
      "[libx264 @ 000002e0da3e0980] i8 v,h,dc,ddl,ddr,vr,hd,vl,hu: 27% 25% 15%  4%  5%  5%  6%  5%  7%\n",
      "[libx264 @ 000002e0da3e0980] i4 v,h,dc,ddl,ddr,vr,hd,vl,hu: 24% 28% 11%  5%  8%  6%  8%  5%  5%\n",
      "[libx264 @ 000002e0da3e0980] i8c dc,h,v,p: 53% 21% 19%  6%\n",
      "[libx264 @ 000002e0da3e0980] Weighted P-Frames: Y:1.1% UV:0.5%\n",
      "[libx264 @ 000002e0da3e0980] ref P L0: 67.0% 16.0% 10.8%  6.2%  0.0%\n",
      "[libx264 @ 000002e0da3e0980] ref B L0: 87.2% 10.5%  2.4%\n",
      "[libx264 @ 000002e0da3e0980] ref B L1: 97.7%  2.3%\n",
      "[libx264 @ 000002e0da3e0980] kb/s:4016.30\n"
     ]
    }
   ],
   "source": [
    "!ffmpeg -i test-video.MP4 -c:v libx264 test-video.264 # convert to appropriate codec"
   ]
  },
  {
   "cell_type": "code",
   "execution_count": 13,
   "id": "7a0f7ffe-8b47-4730-b6d9-5e1b2d4bc04b",
   "metadata": {},
   "outputs": [],
   "source": [
    "from utils import play_video, play_videos\n",
    "from h264 import NALU, parse_h264"
   ]
  },
  {
   "cell_type": "code",
   "execution_count": 9,
   "id": "29194daa-5157-4dd5-a47e-f9f4c0609507",
   "metadata": {},
   "outputs": [
    {
     "data": {
      "text/plain": [
       "1272"
      ]
     },
     "execution_count": 9,
     "metadata": {},
     "output_type": "execute_result"
    }
   ],
   "source": [
    "video_path = \"test-video.264\"\n",
    "video = parse_h264(video_path)\n",
    "len(video)"
   ]
  },
  {
   "cell_type": "code",
   "execution_count": 14,
   "id": "f28c2a90-1583-4e69-88a8-db475e085dd4",
   "metadata": {},
   "outputs": [
    {
     "data": {
      "text/plain": [
       "Counter({1: 1246, 39: 8, 40: 8, 37: 8, 6: 1})"
      ]
     },
     "execution_count": 14,
     "metadata": {},
     "output_type": "execute_result"
    }
   ],
   "source": [
    "from collections import Counter\n",
    "Counter([i.type for i in video if isinstance(i,NALU)]) # type 1 are non-IDR frames"
   ]
  },
  {
   "cell_type": "code",
   "execution_count": 22,
   "id": "195afefa-0b73-45ce-ae5f-5198c8ec7531",
   "metadata": {
    "scrolled": true
   },
   "outputs": [],
   "source": [
    "p = 0.00001 # 0.001%\n",
    "with open(\"test.mp4\", 'wb') as f:\n",
    "    N = 0\n",
    "    for i,nalu in enumerate(video):\n",
    "        if not isinstance(nalu,bytes):\n",
    "            N += 1\n",
    "            f.write(nalu.prefix)\n",
    "            f.write(nalu.header)\n",
    "            payload = nalu.payload\n",
    "\n",
    "            if nalu.type == 1:\n",
    "                payload = list(payload)\n",
    "                for i in [randint(0, len(payload)-1) for j in range(len(payload)) if random() <= p]: # indices of bytes to modify\n",
    "                    n = randint(0,7) # modify a random bit\n",
    "                    payload[i] ^= 1 << n\n",
    "\n",
    "                payload = bytes(payload)\n",
    "            f.write(payload)\n",
    "        else:\n",
    "            f.write(nalu)"
   ]
  },
  {
   "cell_type": "code",
   "execution_count": 23,
   "id": "854f7c76-719f-4ba6-ac7f-6aee1cee6934",
   "metadata": {},
   "outputs": [
    {
     "data": {
      "text/plain": [
       "[0]"
      ]
     },
     "execution_count": 23,
     "metadata": {},
     "output_type": "execute_result"
    }
   ],
   "source": [
    "play_videos([\"test.mp4\"],N=1000)"
   ]
  },
  {
   "cell_type": "code",
   "execution_count": 21,
   "id": "fb3ebf2a-be2c-48f6-be30-77c7160e19f4",
   "metadata": {},
   "outputs": [],
   "source": [
    "from image_similarity_measures.quality_metrics import ssim,psnr,sre,rmse"
   ]
  },
  {
   "cell_type": "code",
   "execution_count": 24,
   "id": "592d9ac1-13a2-4e32-bf4d-95d9d009df97",
   "metadata": {},
   "outputs": [],
   "source": [
    "def compare_videos(pathI, pathK, measure):\n",
    "    capI = cv2.VideoCapture(pathI)\n",
    "    capK = cv2.VideoCapture(pathK)\n",
    "\n",
    "    measured = []\n",
    "    \n",
    "    retI,frameI = capI.read()\n",
    "    retK,frameK = capK.read()\n",
    "    while retI:\n",
    "        retI, fI = capI.read()\n",
    "        retK, fK = capK.read()\n",
    "        if not retI:\n",
    "            break\n",
    "        if retI: frameI = fI\n",
    "        if retK: frameK = fK\n",
    "        measured.append(measure(frameI, frameK))\n",
    "\n",
    "    capI.release()\n",
    "    capK.release()\n",
    "    return measured"
   ]
  },
  {
   "cell_type": "code",
   "execution_count": null,
   "id": "fd7f73f1-91bd-49a5-b9cf-0aebddb91321",
   "metadata": {},
   "outputs": [],
   "source": [
    "measuredSSIM = compare_videos(video_path, \"test.mp4\", ssim) # measures difference between frames"
   ]
  },
  {
   "cell_type": "code",
   "execution_count": null,
   "id": "dccd5a6a-a3f4-4bb4-bb39-9052777b4712",
   "metadata": {},
   "outputs": [],
   "source": []
  },
  {
   "cell_type": "code",
   "execution_count": null,
   "id": "53a1f416-9633-4649-a412-797028090265",
   "metadata": {},
   "outputs": [],
   "source": []
  }
 ],
 "metadata": {
  "kernelspec": {
   "display_name": "Python 3 (ipykernel)",
   "language": "python",
   "name": "python3"
  },
  "language_info": {
   "codemirror_mode": {
    "name": "ipython",
    "version": 3
   },
   "file_extension": ".py",
   "mimetype": "text/x-python",
   "name": "python",
   "nbconvert_exporter": "python",
   "pygments_lexer": "ipython3",
   "version": "3.11.7"
  }
 },
 "nbformat": 4,
 "nbformat_minor": 5
}
